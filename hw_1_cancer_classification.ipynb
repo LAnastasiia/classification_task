{
 "cells": [
  {
   "cell_type": "code",
   "execution_count": 90,
   "metadata": {},
   "outputs": [],
   "source": [
    "# Cancer Classification Task\n",
    "# using https://www.kaggle.com/eikedehling/exploring-class-imbalance-resampling-and-weights/data\n",
    "\n",
    "import numpy as np\n",
    "import pandas as pd\n",
    "from sklearn.preprocessing import RobustScaler\n",
    "from sklearn.model_selection import train_test_split\n",
    "from sklearn.linear_model import LogisticRegression\n",
    "from sklearn.metrics import classification_report\n",
    "from sklearn.model_selection import GridSearchCV"
   ]
  },
  {
   "cell_type": "code",
   "execution_count": 137,
   "metadata": {},
   "outputs": [],
   "source": [
    "data = pd.read_csv('train.csv')\n",
    "\n",
    "# Not using to avoid overfitting.\n",
    "    # scaler = RobustScaler()\n",
    "    # X = scaler.fit_transform(data.drop(['diagnosis', 'id'], axis=1).values)\n",
    "\n",
    "# Drop diagnosis from confirmed data to have data for training. Drop id-s as they don't influence the diagnosis.  \n",
    "X = data.drop(['diagnosis', 'id'], axis=1).values\n",
    "y = data[\"diagnosis\"].values\n",
    "\n",
    "# Partition the train-data to have something for coparison.\n",
    "X_train, X_test, y_train, y_test = train_test_split(X, y, test_size=0.21)\n"
   ]
  },
  {
   "cell_type": "code",
   "execution_count": 138,
   "metadata": {},
   "outputs": [
    {
     "name": "stderr",
     "output_type": "stream",
     "text": [
      "/home/anastasiia/.local/lib/python3.6/site-packages/sklearn/linear_model/logistic.py:432: FutureWarning: Default solver will be changed to 'lbfgs' in 0.22. Specify a solver to silence this warning.\n",
      "  FutureWarning)\n"
     ]
    }
   ],
   "source": [
    "lr = LogisticRegression()\n",
    "\n",
    "lr.fit(X_train, y_train)\n",
    "y_pred = lr.predict(X_test)\n",
    "\n",
    "# See current report on predicted diagosis and known one.\n",
    "# print(classification_report(y_test, y_pred))\n",
    "# plot_confusion_matrix(confusion_matrix(y_test, y_pred))"
   ]
  },
  {
   "cell_type": "code",
   "execution_count": 139,
   "metadata": {},
   "outputs": [],
   "source": [
    "# Predict on unknown data.\n",
    "data_test = pd.read_csv('test.csv')\n",
    "y = lr.predict(data_test.drop(['id'], axis=1).values)\n",
    "\n",
    "\n",
    "# Write results.\n",
    "with open('results.csv', 'w') as results_f:\n",
    "    results_f.write(\"Id, diagnosis\\n\")\n",
    "    for i in range(data_test['id'].shape[0]):\n",
    "        results_f.write(\"{}, {}\\n\".format(data_test['id'][i], y[i]))\n",
    "\n"
   ]
  }
 ],
 "metadata": {
  "kernelspec": {
   "display_name": "Python 3",
   "language": "python",
   "name": "python3"
  },
  "language_info": {
   "codemirror_mode": {
    "name": "ipython",
    "version": 3
   },
   "file_extension": ".py",
   "mimetype": "text/x-python",
   "name": "python",
   "nbconvert_exporter": "python",
   "pygments_lexer": "ipython3",
   "version": "3.6.8"
  }
 },
 "nbformat": 4,
 "nbformat_minor": 2
}
